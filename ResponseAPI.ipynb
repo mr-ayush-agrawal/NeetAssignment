{
 "cells": [
  {
   "cell_type": "code",
   "execution_count": 37,
   "metadata": {},
   "outputs": [],
   "source": [
    "import pandas as pd\n",
    "import requests\n",
    "import json\n",
    "import numpy as np"
   ]
  },
  {
   "cell_type": "code",
   "execution_count": 38,
   "metadata": {},
   "outputs": [
    {
     "data": {
      "text/html": [
       "<div>\n",
       "<style scoped>\n",
       "    .dataframe tbody tr th:only-of-type {\n",
       "        vertical-align: middle;\n",
       "    }\n",
       "\n",
       "    .dataframe tbody tr th {\n",
       "        vertical-align: top;\n",
       "    }\n",
       "\n",
       "    .dataframe thead th {\n",
       "        text-align: right;\n",
       "    }\n",
       "</style>\n",
       "<table border=\"1\" class=\"dataframe\">\n",
       "  <thead>\n",
       "    <tr style=\"text-align: right;\">\n",
       "      <th></th>\n",
       "      <th>id</th>\n",
       "      <th>difficulty_level</th>\n",
       "      <th>topic</th>\n",
       "      <th>type</th>\n",
       "      <th>pyq_label</th>\n",
       "      <th>topic_id</th>\n",
       "      <th>quiz_level</th>\n",
       "      <th>tag</th>\n",
       "      <th>op1_id</th>\n",
       "      <th>op1_is_correct</th>\n",
       "      <th>op2_id</th>\n",
       "      <th>op2_is_correct</th>\n",
       "      <th>op3_id</th>\n",
       "      <th>op3_is_correct</th>\n",
       "      <th>op4_id</th>\n",
       "      <th>op4_is_correct</th>\n",
       "    </tr>\n",
       "  </thead>\n",
       "  <tbody>\n",
       "    <tr>\n",
       "      <th>0</th>\n",
       "      <td>1827</td>\n",
       "      <td>Not Defined</td>\n",
       "      <td>structural organisation in animals</td>\n",
       "      <td></td>\n",
       "      <td>None</td>\n",
       "      <td>146</td>\n",
       "      <td>None</td>\n",
       "      <td></td>\n",
       "      <td>7321</td>\n",
       "      <td>False</td>\n",
       "      <td>7322</td>\n",
       "      <td>False</td>\n",
       "      <td>7323</td>\n",
       "      <td>True</td>\n",
       "      <td>7324</td>\n",
       "      <td>False</td>\n",
       "    </tr>\n",
       "    <tr>\n",
       "      <th>1</th>\n",
       "      <td>1828</td>\n",
       "      <td>Not Defined</td>\n",
       "      <td>structural organisation in animals</td>\n",
       "      <td></td>\n",
       "      <td>None</td>\n",
       "      <td>146</td>\n",
       "      <td>None</td>\n",
       "      <td></td>\n",
       "      <td>7325</td>\n",
       "      <td>False</td>\n",
       "      <td>7326</td>\n",
       "      <td>False</td>\n",
       "      <td>7327</td>\n",
       "      <td>False</td>\n",
       "      <td>7328</td>\n",
       "      <td>True</td>\n",
       "    </tr>\n",
       "    <tr>\n",
       "      <th>2</th>\n",
       "      <td>1829</td>\n",
       "      <td>Not Defined</td>\n",
       "      <td>structural organisation in animals</td>\n",
       "      <td></td>\n",
       "      <td>None</td>\n",
       "      <td>146</td>\n",
       "      <td>None</td>\n",
       "      <td></td>\n",
       "      <td>7329</td>\n",
       "      <td>False</td>\n",
       "      <td>7330</td>\n",
       "      <td>True</td>\n",
       "      <td>7331</td>\n",
       "      <td>False</td>\n",
       "      <td>7332</td>\n",
       "      <td>False</td>\n",
       "    </tr>\n",
       "    <tr>\n",
       "      <th>3</th>\n",
       "      <td>1830</td>\n",
       "      <td>Not Defined</td>\n",
       "      <td>structural organisation in animals</td>\n",
       "      <td></td>\n",
       "      <td>None</td>\n",
       "      <td>146</td>\n",
       "      <td>None</td>\n",
       "      <td></td>\n",
       "      <td>7333</td>\n",
       "      <td>False</td>\n",
       "      <td>7334</td>\n",
       "      <td>False</td>\n",
       "      <td>7335</td>\n",
       "      <td>False</td>\n",
       "      <td>7336</td>\n",
       "      <td>True</td>\n",
       "    </tr>\n",
       "    <tr>\n",
       "      <th>4</th>\n",
       "      <td>1831</td>\n",
       "      <td>Not Defined</td>\n",
       "      <td>structural organisation in animals</td>\n",
       "      <td></td>\n",
       "      <td>None</td>\n",
       "      <td>146</td>\n",
       "      <td>None</td>\n",
       "      <td></td>\n",
       "      <td>7337</td>\n",
       "      <td>False</td>\n",
       "      <td>7338</td>\n",
       "      <td>False</td>\n",
       "      <td>7339</td>\n",
       "      <td>False</td>\n",
       "      <td>7340</td>\n",
       "      <td>True</td>\n",
       "    </tr>\n",
       "  </tbody>\n",
       "</table>\n",
       "</div>"
      ],
      "text/plain": [
       "     id difficulty_level                                topic type pyq_label  \\\n",
       "0  1827      Not Defined  structural organisation in animals            None   \n",
       "1  1828      Not Defined  structural organisation in animals            None   \n",
       "2  1829      Not Defined  structural organisation in animals            None   \n",
       "3  1830      Not Defined  structural organisation in animals            None   \n",
       "4  1831      Not Defined  structural organisation in animals            None   \n",
       "\n",
       "   topic_id quiz_level tag  op1_id  op1_is_correct  op2_id  op2_is_correct  \\\n",
       "0       146       None        7321           False    7322           False   \n",
       "1       146       None        7325           False    7326           False   \n",
       "2       146       None        7329           False    7330            True   \n",
       "3       146       None        7333           False    7334           False   \n",
       "4       146       None        7337           False    7338           False   \n",
       "\n",
       "   op3_id  op3_is_correct  op4_id  op4_is_correct  \n",
       "0    7323            True    7324           False  \n",
       "1    7327           False    7328            True  \n",
       "2    7331           False    7332           False  \n",
       "3    7335           False    7336            True  \n",
       "4    7339           False    7340            True  "
      ]
     },
     "execution_count": 38,
     "metadata": {},
     "output_type": "execute_result"
    }
   ],
   "source": [
    "def getQuestions():\n",
    "    curr_url_quiz = 'https://www.jsonkeeper.com/b/LLQT'\n",
    "    curr_quiz_data = requests.get(curr_url_quiz).json()['quiz']\n",
    "    \n",
    "\n",
    "    questions = curr_quiz_data['questions']\n",
    "    questions = pd.DataFrame(questions)\n",
    "\n",
    "    optdf = pd.DataFrame(questions.options.to_list(), columns=['op1', 'op2', 'op3', 'op4'])\n",
    "    optdf = pd.concat([pd.json_normalize(optdf[col]).add_prefix(f'{col}_') for col in optdf.columns], axis=1)\n",
    "    req_cols = ['id', 'difficulty_level', 'topic', 'type', 'pyq_label', 'topic_id', 'quiz_level', 'tag',\n",
    "                'op1_id', 'op1_is_correct','op2_id', 'op2_is_correct' ,'op3_id', 'op3_is_correct', 'op4_id', 'op4_is_correct']\n",
    "\n",
    "    df = pd.merge(questions, optdf, left_on='id', right_on='op1_question_id', how='inner')[req_cols]\n",
    "    df['difficulty_level'] = ['Not Defined' if lev is None else lev for lev in df['difficulty_level']]\n",
    "    return df\n",
    "questions = getQuestions()\n",
    "questions.head()"
   ]
  },
  {
   "cell_type": "code",
   "execution_count": 39,
   "metadata": {},
   "outputs": [
    {
     "data": {
      "text/plain": [
       "{'id': 336566,\n",
       " 'quiz_id': 43,\n",
       " 'user_id': '7ZXdz3zHuNcdg9agb5YpaOGLQqw2',\n",
       " 'submitted_at': '2025-01-17T15:51:29.859+05:30',\n",
       " 'created_at': '2025-01-17T15:51:29.871+05:30',\n",
       " 'updated_at': '2025-01-17T15:51:29.871+05:30',\n",
       " 'score': 32,\n",
       " 'trophy_level': 2,\n",
       " 'accuracy': '80 %',\n",
       " 'speed': '100',\n",
       " 'final_score': '30.0',\n",
       " 'negative_score': '2.0',\n",
       " 'correct_answers': 8,\n",
       " 'incorrect_answers': 2,\n",
       " 'source': 'live',\n",
       " 'type': 'topic',\n",
       " 'started_at': '2025-01-17T16:20:44.000+05:30',\n",
       " 'ended_at': '2025-01-17T16:21:28.000+05:30',\n",
       " 'duration': '15:00',\n",
       " 'better_than': 24,\n",
       " 'total_questions': 128,\n",
       " 'rank_text': 'Topic Rank - #2402',\n",
       " 'mistakes_corrected': 6,\n",
       " 'initial_mistake_count': 8,\n",
       " 'response_map': {'1837': 7363,\n",
       "  '1848': 7407,\n",
       "  '1852': 7423,\n",
       "  '1862': 7464,\n",
       "  '1877': 7525,\n",
       "  '1878': 7529,\n",
       "  '1900': 7617,\n",
       "  '1917': 7685,\n",
       "  '1934': 7750,\n",
       "  '1964': 7872},\n",
       " 'quiz': {'id': 43,\n",
       "  'name': None,\n",
       "  'title': 'Structural Organisation in Animals and Plants (7)',\n",
       "  'description': '',\n",
       "  'difficulty_level': None,\n",
       "  'topic': 'Structural Organisation in Animals',\n",
       "  'time': '2024-07-03T00:00:00.000+05:30',\n",
       "  'is_published': True,\n",
       "  'created_at': '2024-07-03T11:00:08.958+05:30',\n",
       "  'updated_at': '2024-09-23T18:43:27.751+05:30',\n",
       "  'duration': 128,\n",
       "  'end_time': '2024-07-04T00:00:00.000+05:30',\n",
       "  'negative_marks': '1.0',\n",
       "  'correct_answer_marks': '4.0',\n",
       "  'shuffle': True,\n",
       "  'show_answers': True,\n",
       "  'lock_solutions': False,\n",
       "  'is_form': False,\n",
       "  'show_mastery_option': False,\n",
       "  'reading_material': None,\n",
       "  'quiz_type': None,\n",
       "  'is_custom': False,\n",
       "  'banner_id': None,\n",
       "  'exam_id': None,\n",
       "  'show_unanswered': False,\n",
       "  'ends_at': '2025-01-18',\n",
       "  'lives': None,\n",
       "  'live_count': 'Free Test',\n",
       "  'coin_count': -1,\n",
       "  'questions_count': 128,\n",
       "  'daily_date': 'January 17, 2025',\n",
       "  'max_mistake_count': 15,\n",
       "  'reading_materials': []},\n",
       " 'next_steps': [{'pageType': 'resultPage'}]}"
      ]
     },
     "execution_count": 39,
     "metadata": {},
     "output_type": "execute_result"
    }
   ],
   "source": [
    "response_url = 'https://api.jsonserve.com/rJvd7g'\n",
    "response_data = requests.get(response_url).json()\n",
    "\n",
    "response_data"
   ]
  },
  {
   "cell_type": "code",
   "execution_count": 40,
   "metadata": {},
   "outputs": [
    {
     "data": {
      "text/plain": [
       "dict_keys(['id', 'quiz_id', 'user_id', 'submitted_at', 'created_at', 'updated_at', 'score', 'trophy_level', 'accuracy', 'speed', 'final_score', 'negative_score', 'correct_answers', 'incorrect_answers', 'source', 'type', 'started_at', 'ended_at', 'duration', 'better_than', 'total_questions', 'rank_text', 'mistakes_corrected', 'initial_mistake_count', 'response_map', 'quiz', 'next_steps'])"
      ]
     },
     "execution_count": 40,
     "metadata": {},
     "output_type": "execute_result"
    }
   ],
   "source": [
    "response_data.keys()"
   ]
  },
  {
   "cell_type": "code",
   "execution_count": 41,
   "metadata": {},
   "outputs": [
    {
     "data": {
      "text/html": [
       "<div>\n",
       "<style scoped>\n",
       "    .dataframe tbody tr th:only-of-type {\n",
       "        vertical-align: middle;\n",
       "    }\n",
       "\n",
       "    .dataframe tbody tr th {\n",
       "        vertical-align: top;\n",
       "    }\n",
       "\n",
       "    .dataframe thead th {\n",
       "        text-align: right;\n",
       "    }\n",
       "</style>\n",
       "<table border=\"1\" class=\"dataframe\">\n",
       "  <thead>\n",
       "    <tr style=\"text-align: right;\">\n",
       "      <th></th>\n",
       "      <th>q_id</th>\n",
       "      <th>op_id</th>\n",
       "    </tr>\n",
       "  </thead>\n",
       "  <tbody>\n",
       "    <tr>\n",
       "      <th>0</th>\n",
       "      <td>1837</td>\n",
       "      <td>7363</td>\n",
       "    </tr>\n",
       "    <tr>\n",
       "      <th>1</th>\n",
       "      <td>1848</td>\n",
       "      <td>7407</td>\n",
       "    </tr>\n",
       "    <tr>\n",
       "      <th>2</th>\n",
       "      <td>1852</td>\n",
       "      <td>7423</td>\n",
       "    </tr>\n",
       "    <tr>\n",
       "      <th>3</th>\n",
       "      <td>1862</td>\n",
       "      <td>7464</td>\n",
       "    </tr>\n",
       "    <tr>\n",
       "      <th>4</th>\n",
       "      <td>1877</td>\n",
       "      <td>7525</td>\n",
       "    </tr>\n",
       "    <tr>\n",
       "      <th>5</th>\n",
       "      <td>1878</td>\n",
       "      <td>7529</td>\n",
       "    </tr>\n",
       "    <tr>\n",
       "      <th>6</th>\n",
       "      <td>1900</td>\n",
       "      <td>7617</td>\n",
       "    </tr>\n",
       "    <tr>\n",
       "      <th>7</th>\n",
       "      <td>1917</td>\n",
       "      <td>7685</td>\n",
       "    </tr>\n",
       "    <tr>\n",
       "      <th>8</th>\n",
       "      <td>1934</td>\n",
       "      <td>7750</td>\n",
       "    </tr>\n",
       "    <tr>\n",
       "      <th>9</th>\n",
       "      <td>1964</td>\n",
       "      <td>7872</td>\n",
       "    </tr>\n",
       "  </tbody>\n",
       "</table>\n",
       "</div>"
      ],
      "text/plain": [
       "   q_id  op_id\n",
       "0  1837   7363\n",
       "1  1848   7407\n",
       "2  1852   7423\n",
       "3  1862   7464\n",
       "4  1877   7525\n",
       "5  1878   7529\n",
       "6  1900   7617\n",
       "7  1917   7685\n",
       "8  1934   7750\n",
       "9  1964   7872"
      ]
     },
     "execution_count": 41,
     "metadata": {},
     "output_type": "execute_result"
    }
   ],
   "source": [
    "resp_map = pd.DataFrame(list(response_data['response_map'].items()), columns=['q_id', 'op_id'])\n",
    "resp_map['op_id'] = resp_map['op_id'].astype('int16')\n",
    "resp_map['q_id'] = resp_map['q_id'].astype('int16')\n",
    "\n",
    "resp_map"
   ]
  },
  {
   "cell_type": "markdown",
   "metadata": {},
   "source": [
    "### Seprating the question_ids as per the option selected"
   ]
  },
  {
   "cell_type": "code",
   "execution_count": 42,
   "metadata": {},
   "outputs": [],
   "source": [
    "correct_ques, wrong_ques = [], []\n",
    "\n",
    "for x in resp_map.index:\n",
    "    q_id = resp_map.loc[x].q_id\n",
    "    op_id = resp_map.loc[x].op_id\n",
    "\n",
    "    # getting the data of the question\n",
    "    que = questions[questions.id == q_id]\n",
    "\n",
    "    # for all the options in the question\n",
    "    for i in range(1, 5):\n",
    "        id_col, corr_col = f'op{i}_id', f'op{i}_is_correct'\n",
    "        if que.iloc[0][id_col] == op_id:\n",
    "            if que.iloc[0][corr_col]:\n",
    "                correct_ques.append(q_id)\n",
    "            else:\n",
    "                wrong_ques.append(q_id)    "
   ]
  },
  {
   "cell_type": "code",
   "execution_count": 43,
   "metadata": {},
   "outputs": [
    {
     "data": {
      "text/plain": [
       "(8, 2)"
      ]
     },
     "execution_count": 43,
     "metadata": {},
     "output_type": "execute_result"
    }
   ],
   "source": [
    "len(correct_ques), len(wrong_ques)"
   ]
  },
  {
   "cell_type": "markdown",
   "metadata": {},
   "source": [
    "### Making Visualizations"
   ]
  },
  {
   "cell_type": "code",
   "execution_count": 44,
   "metadata": {},
   "outputs": [],
   "source": [
    "import matplotlib.pyplot as plt\n",
    "import seaborn as sns"
   ]
  },
  {
   "cell_type": "code",
   "execution_count": 45,
   "metadata": {},
   "outputs": [],
   "source": [
    "labels = ['Correct Questions', 'Wrong Questions']\n",
    "values = [len(correct_ques), len(wrong_ques)]"
   ]
  },
  {
   "cell_type": "code",
   "execution_count": 46,
   "metadata": {},
   "outputs": [
    {
     "data": {
      "image/png": "[encoded data removed]",
      "text/plain": [
       "<Figure size 600x400 with 1 Axes>"
      ]
     },
     "metadata": {},
     "output_type": "display_data"
    }
   ],
   "source": [
    "plt.figure(figsize=(6,4))\n",
    "plt.bar(labels, values, color=['#00ff00', '#ff0000'])\n",
    "plt.xlabel('Categories')\n",
    "plt.ylabel('Number of Questions')\n",
    "plt.title('Comparison of Correct and Wrong Questions')\n",
    "\n",
    "plt.savefig('images/correct_vs_wrong_bar.png')\n"
   ]
  },
  {
   "cell_type": "markdown",
   "metadata": {},
   "source": [
    "### Gettinng the topics and difficulty of the questions"
   ]
  },
  {
   "cell_type": "code",
   "execution_count": 47,
   "metadata": {},
   "outputs": [],
   "source": [
    "def getTopics(lst):\n",
    "    df = questions[questions.id.isin(lst)]\n",
    "    topic_df = df.groupby('topic')['id'].count().sort_values(ascending=False)\n",
    "    diffculty_df = df.groupby('difficulty_level')['id'].count().sort_values(ascending=False)\n",
    "\n",
    "    return topic_df, diffculty_df"
   ]
  },
  {
   "cell_type": "code",
   "execution_count": 48,
   "metadata": {},
   "outputs": [],
   "source": [
    "topic_df_corr, diffculty_df_corr = getTopics(correct_ques)\n",
    "topic_df_wrn, diffculty_df_wrn = getTopics(wrong_ques)"
   ]
  },
  {
   "cell_type": "code",
   "execution_count": 49,
   "metadata": {},
   "outputs": [],
   "source": [
    "topic_df_combined = pd.concat([topic_df_corr, topic_df_wrn], axis = 1, keys = ['Correct', 'Worng'])\n",
    "topic_df_combined = topic_df_combined.reset_index()\n",
    "diffculty_df_combined = pd.concat([diffculty_df_corr, diffculty_df_wrn], axis = 1, keys = ['Correct', 'Worng'])\n",
    "diffculty_df_combined = diffculty_df_combined.reset_index()\n"
   ]
  },
  {
   "cell_type": "code",
   "execution_count": 50,
   "metadata": {},
   "outputs": [],
   "source": [
    "topic_df_combined.columns = ['topic', 'Correct', 'Wrong']\n",
    "df_long_topic = pd.melt(topic_df_combined, id_vars=['topic'], value_vars=['Correct', 'Wrong'], \n",
    "                  var_name='Category', value_name='Count')\n",
    "\n",
    "diffculty_df_combined.columns = ['difficulty_level', 'Correct', 'Wrong']\n",
    "diffculty_df_combined = pd.melt(diffculty_df_combined, id_vars=['difficulty_level'], value_vars=['Correct', 'Wrong'], \n",
    "                  var_name='Category', value_name='Count')"
   ]
  },
  {
   "cell_type": "code",
   "execution_count": 52,
   "metadata": {},
   "outputs": [
    {
     "data": {
      "image/png": "[encoded data removed]",
      "text/plain": [
       "<Figure size 1200x800 with 2 Axes>"
      ]
     },
     "metadata": {},
     "output_type": "display_data"
    }
   ],
   "source": [
    "plt.figure(figsize=(12, 8))\n",
    "plt.subplot(1,2,1)\n",
    "sns.barplot(x='topic', y='Count', hue='Category', data=df_long_topic, palette=['#00ff00', '#ff0000'])\n",
    "\n",
    "plt.xlabel('Topic')\n",
    "plt.ylabel('Count')\n",
    "plt.title('Comparison of Correct and Wrong Counts by Topic')\n",
    "\n",
    "\n",
    "plt.subplot(1,2,2)\n",
    "sns.barplot(x='difficulty_level', y='Count', hue='Category', data=diffculty_df_combined, palette=['#00ff00', '#ff0000'])\n",
    "\n",
    "plt.xlabel('difficulty_level')\n",
    "plt.ylabel('Count')\n",
    "plt.title('Comparison of Correct and Wrong Counts by difficulty_level')\n",
    "\n",
    "plt.savefig('images/topic_and_difficulty_comp.png')"
   ]
  },
  {
   "cell_type": "code",
   "execution_count": 53,
   "metadata": {},
   "outputs": [
    {
     "data": {
      "text/html": [
       "<div>\n",
       "<style scoped>\n",
       "    .dataframe tbody tr th:only-of-type {\n",
       "        vertical-align: middle;\n",
       "    }\n",
       "\n",
       "    .dataframe tbody tr th {\n",
       "        vertical-align: top;\n",
       "    }\n",
       "\n",
       "    .dataframe thead th {\n",
       "        text-align: right;\n",
       "    }\n",
       "</style>\n",
       "<table border=\"1\" class=\"dataframe\">\n",
       "  <thead>\n",
       "    <tr style=\"text-align: right;\">\n",
       "      <th></th>\n",
       "      <th>difficulty_level</th>\n",
       "      <th>Category</th>\n",
       "      <th>Count</th>\n",
       "    </tr>\n",
       "  </thead>\n",
       "  <tbody>\n",
       "    <tr>\n",
       "      <th>0</th>\n",
       "      <td>Not Defined</td>\n",
       "      <td>Correct</td>\n",
       "      <td>8</td>\n",
       "    </tr>\n",
       "    <tr>\n",
       "      <th>1</th>\n",
       "      <td>Not Defined</td>\n",
       "      <td>Wrong</td>\n",
       "      <td>2</td>\n",
       "    </tr>\n",
       "  </tbody>\n",
       "</table>\n",
       "</div>"
      ],
      "text/plain": [
       "  difficulty_level Category  Count\n",
       "0      Not Defined  Correct      8\n",
       "1      Not Defined    Wrong      2"
      ]
     },
     "execution_count": 53,
     "metadata": {},
     "output_type": "execute_result"
    }
   ],
   "source": [
    "diffculty_df_combined"
   ]
  },
  {
   "cell_type": "code",
   "execution_count": null,
   "metadata": {},
   "outputs": [],
   "source": []
  }
 ],
 "metadata": {
  "kernelspec": {
   "display_name": "Python 3",
   "language": "python",
   "name": "python3"
  },
  "language_info": {
   "codemirror_mode": {
    "name": "ipython",
    "version": 3
   },
   "file_extension": ".py",
   "mimetype": "text/x-python",
   "name": "python",
   "nbconvert_exporter": "python",
   "pygments_lexer": "ipython3",
   "version": "3.13.1"
  }
 },
 "nbformat": 4,
 "nbformat_minor": 2
}
